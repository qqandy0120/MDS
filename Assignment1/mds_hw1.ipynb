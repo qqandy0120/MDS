{
 "cells": [
  {
   "cell_type": "code",
   "execution_count": 8,
   "metadata": {},
   "outputs": [],
   "source": [
    "import os\n",
    "import pandas as pd\n",
    "import statsmodels.api as sm\n",
    "import scipy.stats as st\n",
    "from statsmodels.stats.stattools import durbin_watson\n",
    "from statsmodels.stats.api import het_breuschpagan\n",
    "from statsmodels.compat import lzip\n",
    "\n"
   ]
  },
  {
   "cell_type": "markdown",
   "metadata": {},
   "source": [
    "### 1. (35%) Linear Regression Analysis for Wine Quality "
   ]
  },
  {
   "cell_type": "markdown",
   "metadata": {},
   "source": [
    "(a)  (10%) Show the results of regression analysis as follows"
   ]
  },
  {
   "cell_type": "code",
   "execution_count": 9,
   "metadata": {},
   "outputs": [
    {
     "data": {
      "text/html": [
       "<table class=\"simpletable\">\n",
       "<caption>OLS Regression Results</caption>\n",
       "<tr>\n",
       "  <th>Dep. Variable:</th>          <td>grade</td>      <th>  R-squared:         </th> <td>   0.495</td>\n",
       "</tr>\n",
       "<tr>\n",
       "  <th>Model:</th>                   <td>OLS</td>       <th>  Adj. R-squared:    </th> <td>   0.472</td>\n",
       "</tr>\n",
       "<tr>\n",
       "  <th>Method:</th>             <td>Least Squares</td>  <th>  F-statistic:       </th> <td>   21.52</td>\n",
       "</tr>\n",
       "<tr>\n",
       "  <th>Date:</th>             <td>Thu, 06 Oct 2022</td> <th>  Prob (F-statistic):</th> <td>1.16e-70</td>\n",
       "</tr>\n",
       "<tr>\n",
       "  <th>Time:</th>                 <td>16:00:56</td>     <th>  Log-Likelihood:    </th> <td> -381.52</td>\n",
       "</tr>\n",
       "<tr>\n",
       "  <th>No. Observations:</th>      <td>   620</td>      <th>  AIC:               </th> <td>   819.0</td>\n",
       "</tr>\n",
       "<tr>\n",
       "  <th>Df Residuals:</th>          <td>   592</td>      <th>  BIC:               </th> <td>   943.1</td>\n",
       "</tr>\n",
       "<tr>\n",
       "  <th>Df Model:</th>              <td>    27</td>      <th>                     </th>     <td> </td>   \n",
       "</tr>\n",
       "<tr>\n",
       "  <th>Covariance Type:</th>      <td>nonrobust</td>    <th>                     </th>     <td> </td>   \n",
       "</tr>\n",
       "</table>\n",
       "<table class=\"simpletable\">\n",
       "<tr>\n",
       "    <td></td>       <th>coef</th>     <th>std err</th>      <th>t</th>      <th>P>|t|</th>  <th>[0.025</th>    <th>0.975]</th>  \n",
       "</tr>\n",
       "<tr>\n",
       "  <th>const</th> <td>    2.0339</td> <td>    0.018</td> <td>  110.528</td> <td> 0.000</td> <td>    1.998</td> <td>    2.070</td>\n",
       "</tr>\n",
       "<tr>\n",
       "  <th>f0</th>    <td>   -0.0055</td> <td>    0.025</td> <td>   -0.224</td> <td> 0.823</td> <td>   -0.054</td> <td>    0.043</td>\n",
       "</tr>\n",
       "<tr>\n",
       "  <th>f1</th>    <td>    0.0440</td> <td>    0.028</td> <td>    1.571</td> <td> 0.117</td> <td>   -0.011</td> <td>    0.099</td>\n",
       "</tr>\n",
       "<tr>\n",
       "  <th>f2</th>    <td>    0.3140</td> <td>    0.035</td> <td>    9.028</td> <td> 0.000</td> <td>    0.246</td> <td>    0.382</td>\n",
       "</tr>\n",
       "<tr>\n",
       "  <th>f3</th>    <td>    0.0186</td> <td>    0.042</td> <td>    0.447</td> <td> 0.655</td> <td>   -0.063</td> <td>    0.100</td>\n",
       "</tr>\n",
       "<tr>\n",
       "  <th>f4</th>    <td>   -0.0035</td> <td>    0.038</td> <td>   -0.091</td> <td> 0.928</td> <td>   -0.078</td> <td>    0.072</td>\n",
       "</tr>\n",
       "<tr>\n",
       "  <th>f5</th>    <td>   -0.0740</td> <td>    0.030</td> <td>   -2.483</td> <td> 0.013</td> <td>   -0.133</td> <td>   -0.015</td>\n",
       "</tr>\n",
       "<tr>\n",
       "  <th>f6</th>    <td>   -0.0710</td> <td>    0.026</td> <td>   -2.742</td> <td> 0.006</td> <td>   -0.122</td> <td>   -0.020</td>\n",
       "</tr>\n",
       "<tr>\n",
       "  <th>f7</th>    <td>    0.0235</td> <td>    0.028</td> <td>    0.853</td> <td> 0.394</td> <td>   -0.031</td> <td>    0.078</td>\n",
       "</tr>\n",
       "<tr>\n",
       "  <th>f8</th>    <td>    0.0410</td> <td>    0.019</td> <td>    2.170</td> <td> 0.030</td> <td>    0.004</td> <td>    0.078</td>\n",
       "</tr>\n",
       "<tr>\n",
       "  <th>f9</th>    <td> 1.099e-18</td> <td> 3.77e-17</td> <td>    0.029</td> <td> 0.977</td> <td>-7.29e-17</td> <td> 7.51e-17</td>\n",
       "</tr>\n",
       "<tr>\n",
       "  <th>f10</th>   <td>   -0.0446</td> <td>    0.021</td> <td>   -2.119</td> <td> 0.035</td> <td>   -0.086</td> <td>   -0.003</td>\n",
       "</tr>\n",
       "<tr>\n",
       "  <th>f11</th>   <td>   -0.0292</td> <td>    0.020</td> <td>   -1.438</td> <td> 0.151</td> <td>   -0.069</td> <td>    0.011</td>\n",
       "</tr>\n",
       "<tr>\n",
       "  <th>f12</th>   <td>   -0.0006</td> <td>    0.022</td> <td>   -0.027</td> <td> 0.979</td> <td>   -0.044</td> <td>    0.043</td>\n",
       "</tr>\n",
       "<tr>\n",
       "  <th>f13</th>   <td>    0.0336</td> <td>    0.024</td> <td>    1.412</td> <td> 0.159</td> <td>   -0.013</td> <td>    0.080</td>\n",
       "</tr>\n",
       "<tr>\n",
       "  <th>f14</th>   <td>   -0.1832</td> <td>    0.021</td> <td>   -8.898</td> <td> 0.000</td> <td>   -0.224</td> <td>   -0.143</td>\n",
       "</tr>\n",
       "<tr>\n",
       "  <th>f15</th>   <td>   -0.1061</td> <td>    0.019</td> <td>   -5.565</td> <td> 0.000</td> <td>   -0.144</td> <td>   -0.069</td>\n",
       "</tr>\n",
       "<tr>\n",
       "  <th>f16</th>   <td>   -0.0358</td> <td>    0.020</td> <td>   -1.756</td> <td> 0.080</td> <td>   -0.076</td> <td>    0.004</td>\n",
       "</tr>\n",
       "<tr>\n",
       "  <th>f17</th>   <td>    0.0633</td> <td>    0.019</td> <td>    3.409</td> <td> 0.001</td> <td>    0.027</td> <td>    0.100</td>\n",
       "</tr>\n",
       "<tr>\n",
       "  <th>f18</th>   <td>   -0.1904</td> <td>    0.021</td> <td>   -9.194</td> <td> 0.000</td> <td>   -0.231</td> <td>   -0.150</td>\n",
       "</tr>\n",
       "<tr>\n",
       "  <th>f19</th>   <td>    0.0278</td> <td>    0.026</td> <td>    1.051</td> <td> 0.294</td> <td>   -0.024</td> <td>    0.080</td>\n",
       "</tr>\n",
       "<tr>\n",
       "  <th>f20</th>   <td>    0.0126</td> <td>    0.020</td> <td>    0.644</td> <td> 0.520</td> <td>   -0.026</td> <td>    0.051</td>\n",
       "</tr>\n",
       "<tr>\n",
       "  <th>f21</th>   <td>   -0.0357</td> <td>    0.028</td> <td>   -1.263</td> <td> 0.207</td> <td>   -0.091</td> <td>    0.020</td>\n",
       "</tr>\n",
       "<tr>\n",
       "  <th>f22</th>   <td>    0.0747</td> <td>    0.021</td> <td>    3.533</td> <td> 0.000</td> <td>    0.033</td> <td>    0.116</td>\n",
       "</tr>\n",
       "<tr>\n",
       "  <th>f23</th>   <td>   -0.0088</td> <td>    0.020</td> <td>   -0.442</td> <td> 0.659</td> <td>   -0.048</td> <td>    0.030</td>\n",
       "</tr>\n",
       "<tr>\n",
       "  <th>f24</th>   <td>    0.0193</td> <td>    0.024</td> <td>    0.800</td> <td> 0.424</td> <td>   -0.028</td> <td>    0.067</td>\n",
       "</tr>\n",
       "<tr>\n",
       "  <th>f25</th>   <td>   -0.0679</td> <td>    0.020</td> <td>   -3.406</td> <td> 0.001</td> <td>   -0.107</td> <td>   -0.029</td>\n",
       "</tr>\n",
       "<tr>\n",
       "  <th>f26</th>   <td>   -0.0360</td> <td>    0.022</td> <td>   -1.625</td> <td> 0.105</td> <td>   -0.080</td> <td>    0.008</td>\n",
       "</tr>\n",
       "<tr>\n",
       "  <th>f27</th>   <td>   -0.0062</td> <td>    0.019</td> <td>   -0.324</td> <td> 0.746</td> <td>   -0.044</td> <td>    0.031</td>\n",
       "</tr>\n",
       "</table>\n",
       "<table class=\"simpletable\">\n",
       "<tr>\n",
       "  <th>Omnibus:</th>       <td>39.669</td> <th>  Durbin-Watson:     </th> <td>   2.004</td>\n",
       "</tr>\n",
       "<tr>\n",
       "  <th>Prob(Omnibus):</th> <td> 0.000</td> <th>  Jarque-Bera (JB):  </th> <td> 147.525</td>\n",
       "</tr>\n",
       "<tr>\n",
       "  <th>Skew:</th>          <td> 0.090</td> <th>  Prob(JB):          </th> <td>9.23e-33</td>\n",
       "</tr>\n",
       "<tr>\n",
       "  <th>Kurtosis:</th>      <td> 5.383</td> <th>  Cond. No.          </th> <td>1.45e+16</td>\n",
       "</tr>\n",
       "</table><br/><br/>Notes:<br/>[1] Standard Errors assume that the covariance matrix of the errors is correctly specified.<br/>[2] The smallest eigenvalue is 9.66e-30. This might indicate that there are<br/>strong multicollinearity problems or that the design matrix is singular."
      ],
      "text/plain": [
       "<class 'statsmodels.iolib.summary.Summary'>\n",
       "\"\"\"\n",
       "                            OLS Regression Results                            \n",
       "==============================================================================\n",
       "Dep. Variable:                  grade   R-squared:                       0.495\n",
       "Model:                            OLS   Adj. R-squared:                  0.472\n",
       "Method:                 Least Squares   F-statistic:                     21.52\n",
       "Date:                Thu, 06 Oct 2022   Prob (F-statistic):           1.16e-70\n",
       "Time:                        16:00:56   Log-Likelihood:                -381.52\n",
       "No. Observations:                 620   AIC:                             819.0\n",
       "Df Residuals:                     592   BIC:                             943.1\n",
       "Df Model:                          27                                         \n",
       "Covariance Type:            nonrobust                                         \n",
       "==============================================================================\n",
       "                 coef    std err          t      P>|t|      [0.025      0.975]\n",
       "------------------------------------------------------------------------------\n",
       "const          2.0339      0.018    110.528      0.000       1.998       2.070\n",
       "f0            -0.0055      0.025     -0.224      0.823      -0.054       0.043\n",
       "f1             0.0440      0.028      1.571      0.117      -0.011       0.099\n",
       "f2             0.3140      0.035      9.028      0.000       0.246       0.382\n",
       "f3             0.0186      0.042      0.447      0.655      -0.063       0.100\n",
       "f4            -0.0035      0.038     -0.091      0.928      -0.078       0.072\n",
       "f5            -0.0740      0.030     -2.483      0.013      -0.133      -0.015\n",
       "f6            -0.0710      0.026     -2.742      0.006      -0.122      -0.020\n",
       "f7             0.0235      0.028      0.853      0.394      -0.031       0.078\n",
       "f8             0.0410      0.019      2.170      0.030       0.004       0.078\n",
       "f9          1.099e-18   3.77e-17      0.029      0.977   -7.29e-17    7.51e-17\n",
       "f10           -0.0446      0.021     -2.119      0.035      -0.086      -0.003\n",
       "f11           -0.0292      0.020     -1.438      0.151      -0.069       0.011\n",
       "f12           -0.0006      0.022     -0.027      0.979      -0.044       0.043\n",
       "f13            0.0336      0.024      1.412      0.159      -0.013       0.080\n",
       "f14           -0.1832      0.021     -8.898      0.000      -0.224      -0.143\n",
       "f15           -0.1061      0.019     -5.565      0.000      -0.144      -0.069\n",
       "f16           -0.0358      0.020     -1.756      0.080      -0.076       0.004\n",
       "f17            0.0633      0.019      3.409      0.001       0.027       0.100\n",
       "f18           -0.1904      0.021     -9.194      0.000      -0.231      -0.150\n",
       "f19            0.0278      0.026      1.051      0.294      -0.024       0.080\n",
       "f20            0.0126      0.020      0.644      0.520      -0.026       0.051\n",
       "f21           -0.0357      0.028     -1.263      0.207      -0.091       0.020\n",
       "f22            0.0747      0.021      3.533      0.000       0.033       0.116\n",
       "f23           -0.0088      0.020     -0.442      0.659      -0.048       0.030\n",
       "f24            0.0193      0.024      0.800      0.424      -0.028       0.067\n",
       "f25           -0.0679      0.020     -3.406      0.001      -0.107      -0.029\n",
       "f26           -0.0360      0.022     -1.625      0.105      -0.080       0.008\n",
       "f27           -0.0062      0.019     -0.324      0.746      -0.044       0.031\n",
       "==============================================================================\n",
       "Omnibus:                       39.669   Durbin-Watson:                   2.004\n",
       "Prob(Omnibus):                  0.000   Jarque-Bera (JB):              147.525\n",
       "Skew:                           0.090   Prob(JB):                     9.23e-33\n",
       "Kurtosis:                       5.383   Cond. No.                     1.45e+16\n",
       "==============================================================================\n",
       "\n",
       "Notes:\n",
       "[1] Standard Errors assume that the covariance matrix of the errors is correctly specified.\n",
       "[2] The smallest eigenvalue is 9.66e-30. This might indicate that there are\n",
       "strong multicollinearity problems or that the design matrix is singular.\n",
       "\"\"\""
      ]
     },
     "execution_count": 9,
     "metadata": {},
     "output_type": "execute_result"
    }
   ],
   "source": [
    "df = pd.read_csv(os.path.join('Assignment1_Data', \"MDS_Assignment1_furnace.csv\"))\n",
    "\n",
    "pred = df.grade\n",
    "X = []\n",
    "D = df[df.columns[:28]]\n",
    "\n",
    "X = sm.add_constant(D)\n",
    "est = sm.OLS(pred, X)\n",
    "\n",
    "summary = est.fit().summary()\n",
    "\n",
    "summary"
   ]
  },
  {
   "cell_type": "markdown",
   "metadata": {},
   "source": [
    "(b) (5%) The fitting of the linear regression is a good idea? If yes, why? If no, why? What’s the \n",
    "possible reason of poor fitting?"
   ]
  },
  {
   "cell_type": "markdown",
   "metadata": {},
   "source": [
    "ans:　In term of R-squared, 0.495, the data are not properly fitting of the linear regression. The reason may be there are too many variables and some of them even have high correlation."
   ]
  },
  {
   "cell_type": "markdown",
   "metadata": {},
   "source": [
    "(c)  (5%) Based on the results, rank the independent variables by p-values and which one are \n",
    "statistically significant variables with p-values<0.01? (i.e.  重要變數挑選"
   ]
  },
  {
   "cell_type": "code",
   "execution_count": 10,
   "metadata": {},
   "outputs": [
    {
     "data": {
      "text/plain": [
       "[['f12', 0.9785197859614874],\n",
       " ['f9', 0.9767336093519265],\n",
       " ['f4', 0.9275233545711323],\n",
       " ['f0', 0.8231798305691757],\n",
       " ['f27', 0.746418963210185],\n",
       " ['f23', 0.6586476274404331],\n",
       " ['f3', 0.6547220406461656],\n",
       " ['f20', 0.5200766295845728],\n",
       " ['f24', 0.4237986071566925],\n",
       " ['f7', 0.3938390613512338],\n",
       " ['f19', 0.2938197302294693],\n",
       " ['f21', 0.2071130863070468],\n",
       " ['f13', 0.1585855950754586],\n",
       " ['f11', 0.1509174478955036],\n",
       " ['f1', 0.11674036608665472],\n",
       " ['f26', 0.10464646982813],\n",
       " ['f16', 0.07959189207626322],\n",
       " ['f10', 0.03450385822318996],\n",
       " ['f8', 0.030366136511410135],\n",
       " ['f5', 0.013312066540727224],\n",
       " ['f6', 0.006295707579197242],\n",
       " ['f25', 0.0007041639436919529],\n",
       " ['f17', 0.0006967770048962991],\n",
       " ['f22', 0.0004429124783520263],\n",
       " ['f15', 3.971325677177405e-08],\n",
       " ['f14', 6.896905393341919e-18],\n",
       " ['f2', 2.4303678500954458e-18],\n",
       " ['f18', 6.355894795964338e-19]]"
      ]
     },
     "execution_count": 10,
     "metadata": {},
     "output_type": "execute_result"
    }
   ],
   "source": [
    "result = est.fit()\n",
    "\n",
    "rank_list = [[f'f{i}', value] for i, value in enumerate(result.pvalues[1:])]\n",
    "\n",
    "rank_list = sorted(rank_list, key=lambda x: x[1], reverse=True)\n",
    "\n",
    "rank_list"
   ]
  },
  {
   "cell_type": "markdown",
   "metadata": {},
   "source": [
    "From the result, we can inference f18, f2, f14, f15, f22, f17, f25, and f6 are statistically significant variables beacause their p-value is less than 0.01."
   ]
  },
  {
   "cell_type": "markdown",
   "metadata": {},
   "source": [
    "(d) (15%) Testify the underlying assumptions of regression (1) Normality, (2) Independence, and (3) Homogeneity of Variance with respect to residual."
   ]
  },
  {
   "cell_type": "code",
   "execution_count": 11,
   "metadata": {},
   "outputs": [
    {
     "name": "stdout",
     "output_type": "stream",
     "text": [
      "Normailty: \n",
      "ShapiroResult(statistic=0.9345124363899231, pvalue=7.536043131996446e-16)\n",
      "\n",
      "Independence: \n",
      "2.0040534804722108\n",
      "\n",
      "Homogeneity of variance: \n",
      "[('Lagrange multiplier statistic', 140.62034965182636), ('p-value', 5.87184293010525e-17), ('f-value', 6.431710999631284), ('f p-value', 5.3118156753529414e-20)]\n"
     ]
    }
   ],
   "source": [
    "# Normailty\n",
    "print(\"Normailty: \")\n",
    "shapiro_test = st.shapiro(result.resid)\n",
    "print(shapiro_test)\n",
    "print()\n",
    "\n",
    "# Independence\n",
    "print(\"Independence: \")\n",
    "print(durbin_watson(result.resid))\n",
    "print()\n",
    "header = [\n",
    "    'Lagrange multiplier statistic',\n",
    "    'p-value',\n",
    "    'f-value',\n",
    "    'f p-value',\n",
    "]\n",
    "\n",
    "# Homogeneity of variance\n",
    "print(\"Homogeneity of variance: \")\n",
    "test = het_breuschpagan(result.resid, result.model.exog)\n",
    "\n",
    "table = lzip(header, test)\n",
    "\n",
    "print(table)"
   ]
  },
  {
   "cell_type": "markdown",
   "metadata": {},
   "source": [
    "### 2. (35%) Association Rule- Market Basket Analysis"
   ]
  },
  {
   "cell_type": "markdown",
   "metadata": {},
   "source": [
    "(1)  (10%) How to handle the raw dataset via data preprocessing?"
   ]
  },
  {
   "cell_type": "code",
   "execution_count": 12,
   "metadata": {},
   "outputs": [],
   "source": [
    "import numpy as np\n",
    "from mlxtend.frequent_patterns import apriori\n",
    "from mlxtend.frequent_patterns import association_rules\n",
    "from mlxtend.preprocessing import TransactionEncoder\n",
    "\n",
    "receipts_path = os.path.join('Assignment1_Data','MDS_Assignment1_groceries.csv')\n",
    "\n",
    "receipts_lst = []\n",
    "with open(receipts_path, 'r') as f:\n",
    "    receipts = f.readlines()\n",
    "    # item_set = list({item for receipt in receipts for item in receipt.replace('\\n', '').split(',')})\n",
    "    \n",
    "    # for receipt in receipts:\n",
    "    #     receipt_lst = [item_set.index(item_name) for item_name in receipt.replace('\\n', '').split(',')]\n",
    "    #     receipts_lst.append(receipt_lst)\n",
    "\n",
    "    # for id_lst in receipts_lst:\n",
    "    #     multi_hot_vec = [1 if i in id_lst else 0 for i in range(len(item_set)) ]\n",
    "    #     multi_hot_lst.append(multi_hot_vec)\n",
    "    for receipt in receipts:\n",
    "        receipt_lst = [item_name for item_name in receipt.replace('\\n', '').split(',')]\n",
    "        receipts_lst.append(receipt_lst)\n",
    "\n",
    "te = TransactionEncoder()\n",
    "te_ary = te.fit(receipts_lst).transform(receipts_lst)\n",
    "df = pd.DataFrame(te_ary, columns=te.columns_)"
   ]
  },
  {
   "cell_type": "markdown",
   "metadata": {},
   "source": [
    "ans:<br>\n",
    "step 1: load data from csv through pandas package. <br>\n",
    "step 2: saperate each item for evey line and put them in list.<br>\n",
    "<br>\n",
    "Thus, we can get a 2-dimension list. For each sub-list in the list, it represents a certain transaction.<br>"
   ]
  },
  {
   "cell_type": "markdown",
   "metadata": {},
   "source": [
    "(2)  (10%) What’s the top 5 association rules? Show the support, confidence, and lift to each \n",
    "specific rule, respectively?"
   ]
  },
  {
   "cell_type": "code",
   "execution_count": 26,
   "metadata": {},
   "outputs": [
    {
     "data": {
      "text/html": [
       "<div>\n",
       "<style scoped>\n",
       "    .dataframe tbody tr th:only-of-type {\n",
       "        vertical-align: middle;\n",
       "    }\n",
       "\n",
       "    .dataframe tbody tr th {\n",
       "        vertical-align: top;\n",
       "    }\n",
       "\n",
       "    .dataframe thead th {\n",
       "        text-align: right;\n",
       "    }\n",
       "</style>\n",
       "<table border=\"1\" class=\"dataframe\">\n",
       "  <thead>\n",
       "    <tr style=\"text-align: right;\">\n",
       "      <th></th>\n",
       "      <th>antecedents</th>\n",
       "      <th>consequents</th>\n",
       "      <th>antecedent support</th>\n",
       "      <th>consequent support</th>\n",
       "      <th>support</th>\n",
       "      <th>confidence</th>\n",
       "      <th>lift</th>\n",
       "      <th>leverage</th>\n",
       "      <th>conviction</th>\n",
       "    </tr>\n",
       "  </thead>\n",
       "  <tbody>\n",
       "    <tr>\n",
       "      <th>4606</th>\n",
       "      <td>(whole milk)</td>\n",
       "      <td>(other vegetables)</td>\n",
       "      <td>0.255516</td>\n",
       "      <td>0.193493</td>\n",
       "      <td>0.074835</td>\n",
       "      <td>0.292877</td>\n",
       "      <td>1.513634</td>\n",
       "      <td>0.025394</td>\n",
       "      <td>1.140548</td>\n",
       "    </tr>\n",
       "    <tr>\n",
       "      <th>4607</th>\n",
       "      <td>(other vegetables)</td>\n",
       "      <td>(whole milk)</td>\n",
       "      <td>0.193493</td>\n",
       "      <td>0.255516</td>\n",
       "      <td>0.074835</td>\n",
       "      <td>0.386758</td>\n",
       "      <td>1.513634</td>\n",
       "      <td>0.025394</td>\n",
       "      <td>1.214013</td>\n",
       "    </tr>\n",
       "    <tr>\n",
       "      <th>5033</th>\n",
       "      <td>(rolls/buns)</td>\n",
       "      <td>(whole milk)</td>\n",
       "      <td>0.183935</td>\n",
       "      <td>0.255516</td>\n",
       "      <td>0.056634</td>\n",
       "      <td>0.307905</td>\n",
       "      <td>1.205032</td>\n",
       "      <td>0.009636</td>\n",
       "      <td>1.075696</td>\n",
       "    </tr>\n",
       "    <tr>\n",
       "      <th>5032</th>\n",
       "      <td>(whole milk)</td>\n",
       "      <td>(rolls/buns)</td>\n",
       "      <td>0.255516</td>\n",
       "      <td>0.183935</td>\n",
       "      <td>0.056634</td>\n",
       "      <td>0.221647</td>\n",
       "      <td>1.205032</td>\n",
       "      <td>0.009636</td>\n",
       "      <td>1.048452</td>\n",
       "    </tr>\n",
       "    <tr>\n",
       "      <th>5425</th>\n",
       "      <td>(yogurt)</td>\n",
       "      <td>(whole milk)</td>\n",
       "      <td>0.139502</td>\n",
       "      <td>0.255516</td>\n",
       "      <td>0.056024</td>\n",
       "      <td>0.401603</td>\n",
       "      <td>1.571735</td>\n",
       "      <td>0.020379</td>\n",
       "      <td>1.244132</td>\n",
       "    </tr>\n",
       "    <tr>\n",
       "      <th>...</th>\n",
       "      <td>...</td>\n",
       "      <td>...</td>\n",
       "      <td>...</td>\n",
       "      <td>...</td>\n",
       "      <td>...</td>\n",
       "      <td>...</td>\n",
       "      <td>...</td>\n",
       "      <td>...</td>\n",
       "      <td>...</td>\n",
       "    </tr>\n",
       "    <tr>\n",
       "      <th>27239</th>\n",
       "      <td>(pastry, dessert)</td>\n",
       "      <td>(fruit/vegetable juice)</td>\n",
       "      <td>0.005389</td>\n",
       "      <td>0.072293</td>\n",
       "      <td>0.001017</td>\n",
       "      <td>0.188679</td>\n",
       "      <td>2.609930</td>\n",
       "      <td>0.000627</td>\n",
       "      <td>1.143453</td>\n",
       "    </tr>\n",
       "    <tr>\n",
       "      <th>27240</th>\n",
       "      <td>(fruit/vegetable juice, dessert)</td>\n",
       "      <td>(pastry)</td>\n",
       "      <td>0.005999</td>\n",
       "      <td>0.088968</td>\n",
       "      <td>0.001017</td>\n",
       "      <td>0.169492</td>\n",
       "      <td>1.905085</td>\n",
       "      <td>0.000483</td>\n",
       "      <td>1.096957</td>\n",
       "    </tr>\n",
       "    <tr>\n",
       "      <th>27245</th>\n",
       "      <td>(pip fruit, dessert)</td>\n",
       "      <td>(fruit/vegetable juice)</td>\n",
       "      <td>0.004982</td>\n",
       "      <td>0.072293</td>\n",
       "      <td>0.001017</td>\n",
       "      <td>0.204082</td>\n",
       "      <td>2.822986</td>\n",
       "      <td>0.000657</td>\n",
       "      <td>1.165581</td>\n",
       "    </tr>\n",
       "    <tr>\n",
       "      <th>27246</th>\n",
       "      <td>(fruit/vegetable juice, dessert)</td>\n",
       "      <td>(pip fruit)</td>\n",
       "      <td>0.005999</td>\n",
       "      <td>0.075648</td>\n",
       "      <td>0.001017</td>\n",
       "      <td>0.169492</td>\n",
       "      <td>2.240523</td>\n",
       "      <td>0.000563</td>\n",
       "      <td>1.112995</td>\n",
       "    </tr>\n",
       "    <tr>\n",
       "      <th>64229</th>\n",
       "      <td>(soft cheese, citrus fruit)</td>\n",
       "      <td>(root vegetables, other vegetables)</td>\n",
       "      <td>0.002644</td>\n",
       "      <td>0.047382</td>\n",
       "      <td>0.001017</td>\n",
       "      <td>0.384615</td>\n",
       "      <td>8.117365</td>\n",
       "      <td>0.000892</td>\n",
       "      <td>1.548005</td>\n",
       "    </tr>\n",
       "  </tbody>\n",
       "</table>\n",
       "<p>32534 rows × 9 columns</p>\n",
       "</div>"
      ],
      "text/plain": [
       "                            antecedents                          consequents  \\\n",
       "4606                       (whole milk)                   (other vegetables)   \n",
       "4607                 (other vegetables)                         (whole milk)   \n",
       "5033                       (rolls/buns)                         (whole milk)   \n",
       "5032                       (whole milk)                         (rolls/buns)   \n",
       "5425                           (yogurt)                         (whole milk)   \n",
       "...                                 ...                                  ...   \n",
       "27239                 (pastry, dessert)              (fruit/vegetable juice)   \n",
       "27240  (fruit/vegetable juice, dessert)                             (pastry)   \n",
       "27245              (pip fruit, dessert)              (fruit/vegetable juice)   \n",
       "27246  (fruit/vegetable juice, dessert)                          (pip fruit)   \n",
       "64229       (soft cheese, citrus fruit)  (root vegetables, other vegetables)   \n",
       "\n",
       "       antecedent support  consequent support   support  confidence      lift  \\\n",
       "4606             0.255516            0.193493  0.074835    0.292877  1.513634   \n",
       "4607             0.193493            0.255516  0.074835    0.386758  1.513634   \n",
       "5033             0.183935            0.255516  0.056634    0.307905  1.205032   \n",
       "5032             0.255516            0.183935  0.056634    0.221647  1.205032   \n",
       "5425             0.139502            0.255516  0.056024    0.401603  1.571735   \n",
       "...                   ...                 ...       ...         ...       ...   \n",
       "27239            0.005389            0.072293  0.001017    0.188679  2.609930   \n",
       "27240            0.005999            0.088968  0.001017    0.169492  1.905085   \n",
       "27245            0.004982            0.072293  0.001017    0.204082  2.822986   \n",
       "27246            0.005999            0.075648  0.001017    0.169492  2.240523   \n",
       "64229            0.002644            0.047382  0.001017    0.384615  8.117365   \n",
       "\n",
       "       leverage  conviction  \n",
       "4606   0.025394    1.140548  \n",
       "4607   0.025394    1.214013  \n",
       "5033   0.009636    1.075696  \n",
       "5032   0.009636    1.048452  \n",
       "5425   0.020379    1.244132  \n",
       "...         ...         ...  \n",
       "27239  0.000627    1.143453  \n",
       "27240  0.000483    1.096957  \n",
       "27245  0.000657    1.165581  \n",
       "27246  0.000563    1.112995  \n",
       "64229  0.000892    1.548005  \n",
       "\n",
       "[32534 rows x 9 columns]"
      ]
     },
     "execution_count": 26,
     "metadata": {},
     "output_type": "execute_result"
    }
   ],
   "source": [
    "frequent_itemsets = apriori(df, min_support=0.001, use_colnames=True)\n",
    "\n",
    "rules = association_rules(frequent_itemsets, metric=\"lift\", min_threshold=1)\n",
    "\n",
    "rules[\n",
    "    (rules['confidence'] >= 15e-2)\n",
    "].sort_values(by=['support'], ascending=False)"
   ]
  },
  {
   "cell_type": "markdown",
   "metadata": {},
   "source": [
    "ans: <br>\n",
    "The top 5 association rules are:<br>\n",
    "- (whole milk) -> (other vegetables), with (support, confidence, lift) = (0.074835, 0.292877, 1.513634) \n",
    "- (other vegetables) -> (whole milk), with (support, confidence, lift) = (0.074835, 0.386758, 1.513634) \n",
    "- (rolls/buns) -> (whole milk), with (support, confidence, lift) = (0.056634, 0.307905, 1.205032) \n",
    "- (whole milk) -> (rolls/buns), with (support, confidence, lift) = (0.056634, 0.221647, 1.205032) \n",
    "- (yogurt) -> (whole milk), with (support, confidence, lift) = (0.056024, 0.401603, 1.571735) "
   ]
  },
  {
   "cell_type": "markdown",
   "metadata": {},
   "source": [
    "(3)  (5%) Please provide/guess the “story” to interpret one of top-5 rules you are interested in."
   ]
  },
  {
   "cell_type": "markdown",
   "metadata": {},
   "source": [
    "ans: <br>\n",
    "I think people who bought rolls/buns tend to buy whole milk is pretty instinctive. It is a common combination no matter for breakfast or afternoon tea in western."
   ]
  },
  {
   "cell_type": "markdown",
   "metadata": {},
   "source": [
    "(4)  (10%) Give a visualization graph of your association rules. "
   ]
  },
  {
   "cell_type": "code",
   "execution_count": null,
   "metadata": {},
   "outputs": [],
   "source": [
    "from pycaret.utils import enable_colab\n",
    "from pycaret.arules import *\n",
    "enable_colab()"
   ]
  },
  {
   "cell_type": "code",
   "execution_count": null,
   "metadata": {},
   "outputs": [],
   "source": [
    "plot_model(rules, plot='3d')"
   ]
  },
  {
   "cell_type": "markdown",
   "metadata": {},
   "source": [
    "### 3. (30%) Manufacturing System Analysis"
   ]
  },
  {
   "cell_type": "code",
   "execution_count": 14,
   "metadata": {},
   "outputs": [
    {
     "name": "stdout",
     "output_type": "stream",
     "text": [
      "TH:\n",
      "station 1: 0.6\n",
      "station 2: 0.38\n",
      "station 3: 0.5\n",
      "station 4: 0.5\n",
      "station 5: 0.42\n",
      "\n",
      "r_b: 0.38\n",
      "\n",
      "T_0: 2.4\n",
      "\n",
      "W_0: 0.91\n"
     ]
    }
   ],
   "source": [
    "STATION_CNT = 5\n",
    "m_cnt = [3, 3, 6, 2, 5]\n",
    "p_time = [5, 8, 12, 4, 12]\n",
    "\n",
    "# by definition, TH is the quantities that a station can process for each hour\n",
    "TH = [round(m*(1/p),2) for m, p in zip(m_cnt, p_time)]\n",
    "r_b = min(TH)\n",
    "print('TH:')\n",
    "for i in range(STATION_CNT):\n",
    "    print((f'station {i+1}: {TH[i]}'))\n",
    "print()\n",
    "print('r_b:', r_b)\n",
    "print()\n",
    "T0 = sum(TH)\n",
    "print('T_0:', T0)\n",
    "W0 = round(r_b * T0, 2)\n",
    "print()\n",
    "print('W_0:', W0)"
   ]
  },
  {
   "cell_type": "code",
   "execution_count": 24,
   "metadata": {},
   "outputs": [
    {
     "name": "stdout",
     "output_type": "stream",
     "text": [
      "WIP: 0.0  CT: 2.40  TH: 0.00\n",
      "WIP: 0.2  CT: 2.40  TH: 0.08\n",
      "WIP: 0.4  CT: 2.40  TH: 0.17\n",
      "WIP: 0.6  CT: 2.40  TH: 0.25\n",
      "WIP: 0.8  CT: 2.40  TH: 0.33\n",
      "WIP: 1.0  CT: 2.63  TH: 0.38\n",
      "WIP: 1.2  CT: 3.16  TH: 0.38\n",
      "WIP: 1.4  CT: 3.68  TH: 0.38\n",
      "WIP: 1.6  CT: 4.21  TH: 0.38\n",
      "WIP: 1.8  CT: 4.74  TH: 0.38\n",
      "WIP: 2.0  CT: 5.26  TH: 0.38\n",
      "WIP: 2.2  CT: 5.79  TH: 0.38\n",
      "WIP: 2.4  CT: 6.32  TH: 0.38\n",
      "WIP: 2.6  CT: 6.84  TH: 0.38\n",
      "WIP: 2.8  CT: 7.37  TH: 0.38\n"
     ]
    }
   ],
   "source": [
    "import matplotlib.pyplot as plt\n",
    "w = 0\n",
    "CTs = []\n",
    "THs = []\n",
    "Ws = []\n",
    "while w < 3:\n",
    "    CT = T0 if w <= W0 else w/r_b\n",
    "    TH = w/T0 if w <= W0 else r_b\n",
    "    CTs.append(CT)\n",
    "    THs.append(TH)\n",
    "    Ws.append(w)\n",
    "    print(f'WIP: {w:.1f}  CT: {CT:.2f}  TH: {TH:.2f}')\n",
    "    w += 0.2\n"
   ]
  },
  {
   "cell_type": "code",
   "execution_count": 25,
   "metadata": {},
   "outputs": [
    {
     "data": {
      "text/plain": [
       "[<matplotlib.lines.Line2D at 0x21ad4d07490>]"
      ]
     },
     "execution_count": 25,
     "metadata": {},
     "output_type": "execute_result"
    },
    {
     "data": {
      "image/png": "[encoded data removed]",
      "text/plain": [
       "<Figure size 640x480 with 2 Axes>"
      ]
     },
     "metadata": {},
     "output_type": "display_data"
    }
   ],
   "source": [
    "fig, ax = plt.subplots(1,2)\n",
    "ax[0].set_title('TH')\n",
    "ax[0].plot(Ws, THs, color='black')\n",
    "ax[1].set_title('CT')\n",
    "ax[1].plot(Ws, CTs, color='black')"
   ]
  }
 ],
 "metadata": {
  "kernelspec": {
   "display_name": "Python 3.9.13 64-bit",
   "language": "python",
   "name": "python3"
  },
  "language_info": {
   "codemirror_mode": {
    "name": "ipython",
    "version": 3
   },
   "file_extension": ".py",
   "mimetype": "text/x-python",
   "name": "python",
   "nbconvert_exporter": "python",
   "pygments_lexer": "ipython3",
   "version": "3.9.13"
  },
  "orig_nbformat": 4,
  "vscode": {
   "interpreter": {
    "hash": "6922c63f0b582ffbcf1720aa28de0a07afe02f9efe50747d30411220503ae7c0"
   }
  }
 },
 "nbformat": 4,
 "nbformat_minor": 2
}
