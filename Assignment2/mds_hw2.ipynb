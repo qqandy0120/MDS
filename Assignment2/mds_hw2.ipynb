{
 "cells": [
  {
   "cell_type": "markdown",
   "metadata": {},
   "source": [
    "### 1."
   ]
  },
  {
   "cell_type": "markdown",
   "metadata": {},
   "source": [
    "(a) 試簡述何謂維度的詛咒？試列舉一案例說明。\n",
    "> 維度的詛咒在說明當維度增加時，因體積指數增加而使任何演算法需要的資料量將同時指數型上升才能避免因資料稀缺而導致無法獲得良好的結果與統計學上正確且可靠的結果。\n",
    "> 在自然語言處理(NLP)的領域中，詞嵌入是將單字轉匯成高維度向量的過程，倘若資料本身詞彙量不足以支撐過少，就會發生維度的詛咒，神經網路模型很有可能因此無法有效訓練，從而導致結果不佳。"
   ]
  },
  {
   "cell_type": "markdown",
   "metadata": {},
   "source": [
    "(b) 避免維度詛咒的方法有哪些？\n",
    "+ 以特徵挑選演算法來選取最佳數量和特徵組合\n",
    "+ 以特徵提取的方法找到與原始特徵的最佳線性或非線性組合以降維，如 PCA。\n",
    "+ 更換演算法如 Transfer Learning 可以有效避免資料的稀缺性。"
   ]
  },
  {
   "cell_type": "markdown",
   "metadata": {},
   "source": [
    "(c) 試找一個開放數據(e.g. Kaggle 開放數據或第一次作業紅酒數據集)並選一種方法(e.g.\n",
    "線性迴歸或決策樹)，用模擬方法固定樣本數但逐步增加變數個數，試著重新繪製圖3.12，\n",
    "呈現維度與預測(或分類)績效間的關係。(提示：模擬方法可思考如下：(1)先做線性迴歸；\n",
    "(2)重要變數依 p-value 排序；(3)將重要的變數一個個依序放入迴歸並計算 adjusted-R2 作\n",
    "為預測準確度)\n"
   ]
  },
  {
   "cell_type": "markdown",
   "metadata": {},
   "source": [
    "### 2."
   ]
  },
  {
   "cell_type": "markdown",
   "metadata": {},
   "source": [
    "(a) 試找一個開放數據(e.g. Kaggle 開放數據)，您會用什麼方法來確認資料品質的好壞？試操作一次並說明其細節。"
   ]
  },
  {
   "cell_type": "markdown",
   "metadata": {},
   "source": [
    "(b) 公司或您是否有現存方法來進行資料品質的確認？如果有(或沒有)，試依您的角度說明(或建議)確認資料品質的標準作業流程(i.e. SOP)。"
   ]
  },
  {
   "cell_type": "markdown",
   "metadata": {},
   "source": [
    "(C) 試建議三個可能衡量數據品質的量化指標(i.e. KPIs)。"
   ]
  },
  {
   "cell_type": "markdown",
   "metadata": {},
   "source": [
    "### 3."
   ]
  },
  {
   "cell_type": "markdown",
   "metadata": {},
   "source": [
    "(a) 在數據科學分析架構中的決策支援階段：什麼是模型的適應性與擴充性？"
   ]
  },
  {
   "cell_type": "markdown",
   "metadata": {},
   "source": [
    "(b) 在 AI 專案中(可根據第一題的開放數據與模型)，就您所使用的數據與建構的預測模型是否\n",
    "具備適用性與擴充性？為什麼？又該如何調整與改善呢？"
   ]
  },
  {
   "cell_type": "markdown",
   "metadata": {},
   "source": [
    "### 4."
   ]
  },
  {
   "cell_type": "markdown",
   "metadata": {},
   "source": [
    "(a) 遺漏值填補的方法包括了統計量填補、預測式填補與生成式填補，試說明這些方法分別適用於什麼樣情形?"
   ]
  },
  {
   "cell_type": "markdown",
   "metadata": {},
   "source": [
    "(b) 為什麼某特徵存在大量遺漏值不宜直接刪除？"
   ]
  },
  {
   "cell_type": "markdown",
   "metadata": {},
   "source": [
    "### 5.\n",
    "在 UCI Machine Learning Repository 開放數據中包含了一個鋼板缺陷數據(steel\n",
    "plates faults dataset，https://archive.ics.uci.edu/ml/datasets/steel+plates+faults)，一共包含了\n",
    "1,941 個觀測值，而每個觀測值具有 27 個特徵以及作為目標值的 7 種缺陷。試挑選出凹\n",
    "凸不平(Bumps)以及刮痕(K_Scratch)兩種缺陷進行分析。試著參考網路資源學習並撰寫程\n",
    "式，使用此數據回答下列問題。"
   ]
  },
  {
   "cell_type": "markdown",
   "metadata": {},
   "source": [
    "(a) 試將羅吉斯迴歸分析的結果呈現如下表，並試著解釋任一特徵與目標值之間的關\n",
    "係。"
   ]
  },
  {
   "cell_type": "markdown",
   "metadata": {},
   "source": [
    "(b) 基於上述(a)的結果，將上述特徵以 t value 進行排序後，哪些特徵的迴歸係數在統計\n",
    "上是顯著的呢(p-value<0.01)？"
   ]
  },
  {
   "cell_type": "markdown",
   "metadata": {},
   "source": [
    "(c) 試問配適一個羅吉斯迴歸模型是否合適？試若配適不佳，試說明其可能的原因為\n",
    "何"
   ]
  },
  {
   "cell_type": "markdown",
   "metadata": {},
   "source": [
    "(d) 試問配適一個線性判別分析模型是否合適？若配適不佳，試說明其可能的原因為\n",
    "何？"
   ]
  },
  {
   "cell_type": "markdown",
   "metadata": {},
   "source": [
    "(e) 試問配適一個二次判別分析模型是否合適？若配適不佳，試說明其可能的原因為\n",
    "何？"
   ]
  }
 ],
 "metadata": {
  "kernelspec": {
   "display_name": "Python 3.9.13 64-bit",
   "language": "python",
   "name": "python3"
  },
  "language_info": {
   "name": "python",
   "version": "3.9.13"
  },
  "orig_nbformat": 4,
  "vscode": {
   "interpreter": {
    "hash": "6922c63f0b582ffbcf1720aa28de0a07afe02f9efe50747d30411220503ae7c0"
   }
  }
 },
 "nbformat": 4,
 "nbformat_minor": 2
}
